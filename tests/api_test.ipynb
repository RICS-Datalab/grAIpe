{
 "cells": [
  {
   "cell_type": "code",
   "execution_count": 2,
   "metadata": {},
   "outputs": [],
   "source": [
    "import requests\n",
    "import os\n",
    "import json\n",
    "import sys\n",
    "import time\n",
    "import rasterio"
   ]
  },
  {
   "cell_type": "code",
   "execution_count": 11,
   "metadata": {},
   "outputs": [
    {
     "name": "stdout",
     "output_type": "stream",
     "text": [
      "{\"detail\":[{\"loc\":[\"body\"],\"msg\":\"value is not a valid dict\",\"type\":\"type_error.dict\"}]}\n"
     ]
    }
   ],
   "source": [
    "# Authentication\n",
    "token = requests.post('http://localhost:8888/login',\n",
    "                    data={'username': 'ricsdatalab',\n",
    "                          'password': 'ricsricsjabjab00$$'})\n",
    "\n",
    "print(token.text)"
   ]
  },
  {
   "cell_type": "code",
   "execution_count": null,
   "metadata": {},
   "outputs": [],
   "source": [
    "# Create a project\n",
    "res = requests.post('http://localhost:8000/api/projects/',\n",
    "                    headers={'Authorization': 'JWT {}'.format(token)},\n",
    "                    data={'name': 'NDVI test '}).json()\n",
    "project_id = res['id']\n",
    "print(res)"
   ]
  },
  {
   "cell_type": "code",
   "execution_count": null,
   "metadata": {},
   "outputs": [],
   "source": [
    "#List projects\n",
    "res = requests.get('http://localhost:8000/api/projects/',\n",
    "                    headers={'Authorization': 'JWT {}'.format(token)},\n",
    "                    data={'name': 'NDVI test '}).json()\n",
    "project_id = res['id']\n",
    "print(res)\n"
   ]
  }
 ],
 "metadata": {
  "kernelspec": {
   "display_name": "grAIpe",
   "language": "python",
   "name": "python3"
  },
  "language_info": {
   "codemirror_mode": {
    "name": "ipython",
    "version": 3
   },
   "file_extension": ".py",
   "mimetype": "text/x-python",
   "name": "python",
   "nbconvert_exporter": "python",
   "pygments_lexer": "ipython3",
   "version": "3.10.9"
  },
  "orig_nbformat": 4
 },
 "nbformat": 4,
 "nbformat_minor": 2
}
